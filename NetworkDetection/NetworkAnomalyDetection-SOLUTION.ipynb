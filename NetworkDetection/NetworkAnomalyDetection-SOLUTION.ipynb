{
 "cells": [
  {
   "cell_type": "markdown",
   "metadata": {},
   "source": [
    "# Hands-On-AI-In-Cyber\n",
    "**Network Anomaly Detection** \n"
   ]
  },
  {
   "cell_type": "code",
   "execution_count": 1,
   "metadata": {},
   "outputs": [],
   "source": [
    "import numpy as np\n",
    "import pandas as pd\n",
    "\n",
    "from sklearn.linear_model import *\n",
    "from sklearn.tree import *\n",
    "from sklearn.naive_bayes import *\n",
    "from sklearn.neighbors import *\n",
    "from sklearn.metrics import accuracy_score, precision_recall_curve\n",
    "\n",
    "from sklearn.model_selection import train_test_split\n",
    "\n",
    "import matplotlib.pyplot as plt\n",
    "%matplotlib inline\n",
    "\n",
    "# Load the data.\n",
    "dataset = pd.read_csv('data/network-logs.csv')"
   ]
  },
  {
   "cell_type": "markdown",
   "metadata": {},
   "source": [
    "### Verteilung der Labels Plotten\n",
    "Wie viele Anomalies gibt es im Datenset?"
   ]
  },
  {
   "cell_type": "code",
   "execution_count": 2,
   "metadata": {},
   "outputs": [
    {
     "data": {
      "text/plain": [
       "0    393\n",
       "1     12\n",
       "Name: ANOMALY, dtype: int64"
      ]
     },
     "execution_count": 2,
     "metadata": {},
     "output_type": "execute_result"
    },
    {
     "data": {
      "image/png": "[encoded data removed]",
      "text/plain": [
       "<Figure size 576x288 with 1 Axes>"
      ]
     },
     "metadata": {
      "needs_background": "light"
     },
     "output_type": "display_data"
    }
   ],
   "source": [
    "dataset.ANOMALY.value_counts().plot.bar(figsize=(8,4))\n",
    "dataset.ANOMALY.value_counts()"
   ]
  },
  {
   "cell_type": "code",
   "execution_count": 3,
   "metadata": {},
   "outputs": [
    {
     "data": {
      "text/html": [
       "<div>\n",
       "<style scoped>\n",
       "    .dataframe tbody tr th:only-of-type {\n",
       "        vertical-align: middle;\n",
       "    }\n",
       "\n",
       "    .dataframe tbody tr th {\n",
       "        vertical-align: top;\n",
       "    }\n",
       "\n",
       "    .dataframe thead th {\n",
       "        text-align: right;\n",
       "    }\n",
       "</style>\n",
       "<table border=\"1\" class=\"dataframe\">\n",
       "  <thead>\n",
       "    <tr style=\"text-align: right;\">\n",
       "      <th></th>\n",
       "      <th>REMOTE_PORT</th>\n",
       "      <th>LATENCY</th>\n",
       "      <th>THROUGHPUT</th>\n",
       "      <th>ANOMALY</th>\n",
       "    </tr>\n",
       "  </thead>\n",
       "  <tbody>\n",
       "    <tr>\n",
       "      <th>0</th>\n",
       "      <td>21</td>\n",
       "      <td>15.942875</td>\n",
       "      <td>16.202998</td>\n",
       "      <td>0</td>\n",
       "    </tr>\n",
       "    <tr>\n",
       "      <th>1</th>\n",
       "      <td>20</td>\n",
       "      <td>12.666451</td>\n",
       "      <td>15.899084</td>\n",
       "      <td>1</td>\n",
       "    </tr>\n",
       "    <tr>\n",
       "      <th>2</th>\n",
       "      <td>80</td>\n",
       "      <td>13.894550</td>\n",
       "      <td>12.958008</td>\n",
       "      <td>0</td>\n",
       "    </tr>\n",
       "    <tr>\n",
       "      <th>3</th>\n",
       "      <td>21</td>\n",
       "      <td>13.620813</td>\n",
       "      <td>15.459475</td>\n",
       "      <td>0</td>\n",
       "    </tr>\n",
       "    <tr>\n",
       "      <th>4</th>\n",
       "      <td>21</td>\n",
       "      <td>15.705485</td>\n",
       "      <td>15.339565</td>\n",
       "      <td>0</td>\n",
       "    </tr>\n",
       "  </tbody>\n",
       "</table>\n",
       "</div>"
      ],
      "text/plain": [
       "   REMOTE_PORT    LATENCY  THROUGHPUT  ANOMALY\n",
       "0           21  15.942875   16.202998        0\n",
       "1           20  12.666451   15.899084        1\n",
       "2           80  13.894550   12.958008        0\n",
       "3           21  13.620813   15.459475        0\n",
       "4           21  15.705485   15.339565        0"
      ]
     },
     "execution_count": 3,
     "metadata": {},
     "output_type": "execute_result"
    }
   ],
   "source": [
    "dataset.head(5)"
   ]
  },
  {
   "cell_type": "markdown",
   "metadata": {},
   "source": [
    "### Gibt es Probleme bei der Anzahl der Datensamples?\n",
    "Wie können wir dieses Problem angehen? Müssen wir es angehen?"
   ]
  },
  {
   "cell_type": "markdown",
   "metadata": {},
   "source": [
    "### Datenset aufsplitten"
   ]
  },
  {
   "cell_type": "code",
   "execution_count": 4,
   "metadata": {},
   "outputs": [],
   "source": [
    "samples = dataset.iloc[:, [1, 2]].values\n",
    "targets = dataset['ANOMALY'].values"
   ]
  },
  {
   "cell_type": "code",
   "execution_count": 5,
   "metadata": {},
   "outputs": [],
   "source": [
    "training_samples, testing_samples, training_targets, testing_targets = train_test_split(\n",
    "         samples, targets, test_size=0.3, random_state=0)"
   ]
  },
  {
   "cell_type": "code",
   "execution_count": 6,
   "metadata": {},
   "outputs": [],
   "source": [
    "from sklearn.utils import resample"
   ]
  },
  {
   "cell_type": "code",
   "execution_count": 7,
   "metadata": {},
   "outputs": [],
   "source": [
    "train_data = np.concatenate((training_samples, training_targets[:,np.newaxis]), axis=1)\n",
    "\n",
    "class_0 = train_data[train_data[:,-1] == 0]\n",
    "class_1 = train_data[train_data[:,-1] == 1]\n",
    "\n",
    "majority_size = max(len(class_0), len(class_1))\n",
    "\n",
    "class_0_upsampled = resample(class_0, replace=True, n_samples=majority_size, random_state=42)\n",
    "class_1_upsampled = resample(class_1, replace=True, n_samples=majority_size, random_state=42)\n",
    "\n",
    "train_data_upsampled = np.concatenate((class_0_upsampled, class_1_upsampled))\n",
    "\n",
    "train_samples_upsampled = train_data_upsampled[:,:-1]\n",
    "train_targets_upsampled = train_data_upsampled[:,-1]"
   ]
  },
  {
   "cell_type": "markdown",
   "metadata": {},
   "source": [
    "#### Falls du es geschafft hast, passe den code unten an"
   ]
  },
  {
   "cell_type": "code",
   "execution_count": 8,
   "metadata": {},
   "outputs": [],
   "source": [
    "training_samples = train_samples_upsampled\n",
    "training_targets = train_targets_upsampled"
   ]
  },
  {
   "cell_type": "markdown",
   "metadata": {},
   "source": [
    "### Klassifizieren"
   ]
  },
  {
   "cell_type": "code",
   "execution_count": 9,
   "metadata": {
    "scrolled": false
   },
   "outputs": [
    {
     "name": "stdout",
     "output_type": "stream",
     "text": [
      "K-Nearest Neighbours accuracy: 96.72131147540983\n"
     ]
    }
   ],
   "source": [
    "# k-Nearest Neighbors model\n",
    "knc = KNeighborsClassifier(n_neighbors=2)\n",
    "knc.fit(training_samples,training_targets)\n",
    "knc_prediction = knc.predict(testing_samples)\n",
    "knc_accuracy = 100.0 * accuracy_score(testing_targets, knc_prediction)\n",
    "print (\"K-Nearest Neighbours accuracy: \" + str(knc_accuracy))\n"
   ]
  },
  {
   "cell_type": "code",
   "execution_count": 10,
   "metadata": {
    "scrolled": true
   },
   "outputs": [
    {
     "data": {
      "image/png": "[encoded data removed]",
      "text/plain": [
       "<Figure size 432x288 with 1 Axes>"
      ]
     },
     "metadata": {
      "needs_background": "light"
     },
     "output_type": "display_data"
    }
   ],
   "source": [
    "precision, recall, thresholds = precision_recall_curve(testing_targets, knc_prediction)\n",
    "plt.plot(recall, precision)\n",
    "plt.xlabel('Recall')\n",
    "plt.ylabel('Precision')\n",
    "plt.title('Precision-Recall Curve')\n",
    "plt.show()"
   ]
  },
  {
   "cell_type": "code",
   "execution_count": 11,
   "metadata": {
    "scrolled": true
   },
   "outputs": [
    {
     "name": "stdout",
     "output_type": "stream",
     "text": [
      "Gaussian Naive Bayes accuracy: 96.72131147540983\n"
     ]
    }
   ],
   "source": [
    "# Gaussian Naive Bayes model\n",
    "gnb = GaussianNB()\n",
    "gnb.fit(training_samples,training_targets)\n",
    "gnb_prediction = gnb.predict(testing_samples)\n",
    "gnb_accuracy = 100.0 * accuracy_score(testing_targets, gnb_prediction)\n",
    "print (\"Gaussian Naive Bayes accuracy: \" + str(gnb_accuracy))"
   ]
  },
  {
   "cell_type": "code",
   "execution_count": 12,
   "metadata": {},
   "outputs": [
    {
     "data": {
      "image/png": "[encoded data removed]",
      "text/plain": [
       "<Figure size 432x288 with 1 Axes>"
      ]
     },
     "metadata": {
      "needs_background": "light"
     },
     "output_type": "display_data"
    }
   ],
   "source": [
    "precision, recall, thresholds = precision_recall_curve(testing_targets, gnb_prediction)\n",
    "plt.plot(recall, precision)\n",
    "plt.xlabel('Recall')\n",
    "plt.ylabel('Precision')\n",
    "plt.title('Precision-Recall Curve')\n",
    "plt.show()"
   ]
  },
  {
   "cell_type": "markdown",
   "metadata": {},
   "source": [
    "### Klassifiziere die Daten mit einem DecisionTreeClassifier\n",
    "https://scikit-learn.org/stable/modules/tree.html"
   ]
  },
  {
   "cell_type": "code",
   "execution_count": 13,
   "metadata": {},
   "outputs": [
    {
     "name": "stdout",
     "output_type": "stream",
     "text": [
      "Decision Tree accuracy: 95.90163934426229\n"
     ]
    }
   ],
   "source": [
    "# Decision tree model\n",
    "dtc = DecisionTreeClassifier(random_state=0)\n",
    "dtc.fit(training_samples,training_targets)\n",
    "dtc_prediction = dtc.predict(testing_samples)\n",
    "dtc_accuracy = 100.0 * accuracy_score(testing_targets, dtc_prediction)\n",
    "print (\"Decision Tree accuracy: \" + str(dtc_accuracy))"
   ]
  },
  {
   "cell_type": "code",
   "execution_count": 14,
   "metadata": {},
   "outputs": [
    {
     "data": {
      "image/png": "[encoded data removed]",
      "text/plain": [
       "<Figure size 432x288 with 1 Axes>"
      ]
     },
     "metadata": {
      "needs_background": "light"
     },
     "output_type": "display_data"
    }
   ],
   "source": [
    "precision, recall, thresholds = precision_recall_curve(testing_targets, dtc_prediction)\n",
    "plt.plot(recall, precision)\n",
    "plt.xlabel('Recall')\n",
    "plt.ylabel('Precision')\n",
    "plt.title('Precision-Recall Curve')\n",
    "plt.show()"
   ]
  },
  {
   "cell_type": "markdown",
   "metadata": {},
   "source": [
    "### Kannst du deinen eignene Classifier bauen? Z.B ein Neuronales Netzwerk?"
   ]
  },
  {
   "cell_type": "code",
   "execution_count": 26,
   "metadata": {},
   "outputs": [],
   "source": [
    "from tensorflow import keras\n",
    "from tensorflow.keras.models import Sequential\n",
    "from tensorflow.keras.layers import Dense"
   ]
  },
  {
   "cell_type": "code",
   "execution_count": 33,
   "metadata": {},
   "outputs": [],
   "source": [
    "model = Sequential()\n",
    "model.add(Dense(32,activation='relu', input_dim=2))\n",
    "model.add(Dense(16, activation='relu'))\n",
    "model.add(Dense(1, activation='sigmoid'))"
   ]
  },
  {
   "cell_type": "code",
   "execution_count": 34,
   "metadata": {},
   "outputs": [],
   "source": [
    "model.compile(loss='binary_crossentropy', optimizer='adam', metrics=['accuracy'])"
   ]
  },
  {
   "cell_type": "code",
   "execution_count": 35,
   "metadata": {},
   "outputs": [
    {
     "name": "stdout",
     "output_type": "stream",
     "text": [
      "Epoch 1/10\n",
      "18/18 [==============================] - 1s 1ms/step - loss: 3.8052 - accuracy: 0.5013\n",
      "Epoch 2/10\n",
      "18/18 [==============================] - 0s 1ms/step - loss: 1.2113 - accuracy: 0.4987\n",
      "Epoch 3/10\n",
      "18/18 [==============================] - 0s 953us/step - loss: 0.7145 - accuracy: 0.6337\n",
      "Epoch 4/10\n",
      "18/18 [==============================] - 0s 1ms/step - loss: 0.6167 - accuracy: 0.5679\n",
      "Epoch 5/10\n",
      "18/18 [==============================] - 0s 927us/step - loss: 0.6034 - accuracy: 0.7275\n",
      "Epoch 6/10\n",
      "18/18 [==============================] - 0s 939us/step - loss: 0.5895 - accuracy: 0.7015\n",
      "Epoch 7/10\n",
      "18/18 [==============================] - 0s 880us/step - loss: 0.5671 - accuracy: 0.7197\n",
      "Epoch 8/10\n",
      "18/18 [==============================] - 0s 939us/step - loss: 0.5437 - accuracy: 0.7492\n",
      "Epoch 9/10\n",
      "18/18 [==============================] - 0s 939us/step - loss: 0.5559 - accuracy: 0.7147\n",
      "Epoch 10/10\n",
      "18/18 [==============================] - 0s 997us/step - loss: 0.5567 - accuracy: 0.7104\n"
     ]
    },
    {
     "data": {
      "text/plain": [
       "<tensorflow.python.keras.callbacks.History at 0x2e1c0df9790>"
      ]
     },
     "execution_count": 35,
     "metadata": {},
     "output_type": "execute_result"
    }
   ],
   "source": [
    "model.fit(training_samples, training_targets, epochs=10, batch_size=32)"
   ]
  },
  {
   "cell_type": "code",
   "execution_count": 37,
   "metadata": {},
   "outputs": [
    {
     "name": "stdout",
     "output_type": "stream",
     "text": [
      "4/4 [==============================] - 0s 1ms/step - loss: 0.5058 - accuracy: 0.9426\n"
     ]
    },
    {
     "data": {
      "text/plain": [
       "[0.5058415532112122, 0.9426229596138]"
      ]
     },
     "execution_count": 37,
     "metadata": {},
     "output_type": "execute_result"
    }
   ],
   "source": [
    "model.evaluate(testing_samples, testing_targets)"
   ]
  }
 ],
 "metadata": {
  "kernelspec": {
   "display_name": "Python 3",
   "language": "python",
   "name": "python3"
  },
  "language_info": {
   "codemirror_mode": {
    "name": "ipython",
    "version": 3
   },
   "file_extension": ".py",
   "mimetype": "text/x-python",
   "name": "python",
   "nbconvert_exporter": "python",
   "pygments_lexer": "ipython3",
   "version": "3.8.5"
  }
 },
 "nbformat": 4,
 "nbformat_minor": 5
}
