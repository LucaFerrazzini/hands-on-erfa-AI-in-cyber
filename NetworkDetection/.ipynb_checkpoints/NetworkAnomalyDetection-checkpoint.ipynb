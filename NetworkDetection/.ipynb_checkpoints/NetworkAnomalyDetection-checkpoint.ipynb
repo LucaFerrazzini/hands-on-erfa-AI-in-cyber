{
 "cells": [
  {
   "cell_type": "code",
   "execution_count": 3,
   "id": "7c0e7762",
   "metadata": {},
   "outputs": [],
   "source": [
    "import numpy as np\n",
    "import pandas as pd\n",
    "\n",
    "from sklearn.linear_model import *\n",
    "from sklearn.tree import *\n",
    "from sklearn.naive_bayes import *\n",
    "from sklearn.neighbors import *\n",
    "from sklearn.metrics import accuracy_score\n",
    "\n",
    "from sklearn.model_selection import train_test_split\n",
    "\n",
    "import matplotlib.pyplot as plt\n",
    "%matplotlib inline\n",
    "\n",
    "# Load the data.\n",
    "dataset = pd.read_csv('data/network-logs.csv')"
   ]
  },
  {
   "cell_type": "code",
   "execution_count": 4,
   "id": "d60afdac",
   "metadata": {},
   "outputs": [],
   "source": [
    "samples = dataset.iloc[:, [1, 2]].values\n",
    "targets = dataset['ANOMALY'].values"
   ]
  },
  {
   "cell_type": "code",
   "execution_count": 5,
   "id": "5b00c5f8",
   "metadata": {},
   "outputs": [],
   "source": [
    "training_samples, testing_samples, training_targets, testing_targets = train_test_split(\n",
    "         samples, targets, test_size=0.3, random_state=0)"
   ]
  },
  {
   "cell_type": "code",
   "execution_count": 7,
   "id": "f862dc27",
   "metadata": {},
   "outputs": [
    {
     "name": "stdout",
     "output_type": "stream",
     "text": [
      "K-Nearest Neighbours accuracy: 95.90163934426229\n"
     ]
    }
   ],
   "source": [
    "# k-Nearest Neighbors model\n",
    "knc = KNeighborsClassifier(n_neighbors=2)\n",
    "knc.fit(training_samples,training_targets)\n",
    "knc_prediction = knc.predict(testing_samples)\n",
    "knc_accuracy = 100.0 * accuracy_score(testing_targets, knc_prediction)\n",
    "print (\"K-Nearest Neighbours accuracy: \" + str(knc_accuracy))"
   ]
  },
  {
   "cell_type": "code",
   "execution_count": 8,
   "id": "d6ecce5b",
   "metadata": {},
   "outputs": [
    {
     "name": "stdout",
     "output_type": "stream",
     "text": [
      "Decision Tree accuracy: 96.72131147540983\n"
     ]
    }
   ],
   "source": [
    "# Decision tree model\n",
    "dtc = DecisionTreeClassifier(random_state=0)\n",
    "dtc.fit(training_samples,training_targets)\n",
    "dtc_prediction = dtc.predict(testing_samples)\n",
    "dtc_accuracy = 100.0 * accuracy_score(testing_targets, dtc_prediction)\n",
    "print (\"Decision Tree accuracy: \" + str(dtc_accuracy))"
   ]
  },
  {
   "cell_type": "code",
   "execution_count": 9,
   "id": "47fff185",
   "metadata": {
    "scrolled": true
   },
   "outputs": [
    {
     "name": "stdout",
     "output_type": "stream",
     "text": [
      "Gaussian Naive Bayes accuracy: 98.36065573770492\n"
     ]
    }
   ],
   "source": [
    "# Gaussian Naive Bayes model\n",
    "gnb = GaussianNB()\n",
    "gnb.fit(training_samples,training_targets)\n",
    "gnb_prediction = gnb.predict(testing_samples)\n",
    "gnb_accuracy = 100.0 * accuracy_score(testing_targets, gnb_prediction)\n",
    "print (\"Gaussian Naive Bayes accuracy: \" + str(gnb_accuracy))"
   ]
  },
  {
   "cell_type": "code",
   "execution_count": null,
   "id": "34304eec",
   "metadata": {},
   "outputs": [],
   "source": [
    "## CAN YOU CREATE A NN TO CLASSIFY?"
   ]
  }
 ],
 "metadata": {
  "kernelspec": {
   "display_name": "Python 3 (ipykernel)",
   "language": "python",
   "name": "python3"
  },
  "language_info": {
   "codemirror_mode": {
    "name": "ipython",
    "version": 3
   },
   "file_extension": ".py",
   "mimetype": "text/x-python",
   "name": "python",
   "nbconvert_exporter": "python",
   "pygments_lexer": "ipython3",
   "version": "3.9.16"
  }
 },
 "nbformat": 4,
 "nbformat_minor": 5
}
