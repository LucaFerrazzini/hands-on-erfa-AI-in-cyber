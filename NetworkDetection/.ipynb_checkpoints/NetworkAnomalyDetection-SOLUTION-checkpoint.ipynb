{
 "cells": [
  {
   "cell_type": "markdown",
   "id": "a7e76c66",
   "metadata": {},
   "source": [
    "# Hands-On-AI-In-Cyber\n",
    "**Network Anomaly Detection** \n"
   ]
  },
  {
   "cell_type": "code",
   "execution_count": 3,
   "id": "7c0e7762",
   "metadata": {},
   "outputs": [],
   "source": [
    "import numpy as np\n",
    "import pandas as pd\n",
    "\n",
    "from sklearn.linear_model import *\n",
    "from sklearn.tree import *\n",
    "from sklearn.naive_bayes import *\n",
    "from sklearn.neighbors import *\n",
    "from sklearn.metrics import accuracy_score, precision_recall_curve\n",
    "\n",
    "from sklearn.model_selection import train_test_split\n",
    "\n",
    "import matplotlib.pyplot as plt\n",
    "%matplotlib inline\n",
    "\n",
    "# Load the data.\n",
    "dataset = pd.read_csv('data/network-logs.csv')"
   ]
  },
  {
   "cell_type": "markdown",
   "id": "dda8ad2e",
   "metadata": {},
   "source": [
    "### Verteilung der Labels Plotten\n",
    "Wie viele Anomalies gibt es im Datenset?"
   ]
  },
  {
   "cell_type": "code",
   "execution_count": 16,
   "id": "8032c218",
   "metadata": {},
   "outputs": [
    {
     "data": {
      "text/plain": [
       "0    393\n",
       "1     12\n",
       "Name: ANOMALY, dtype: int64"
      ]
     },
     "execution_count": 16,
     "metadata": {},
     "output_type": "execute_result"
    },
    {
     "data": {
      "image/png": "[encoded data removed]",
      "text/plain": [
       "<Figure size 800x400 with 1 Axes>"
      ]
     },
     "metadata": {},
     "output_type": "display_data"
    }
   ],
   "source": [
    "dataset.ANOMALY.value_counts().plot.bar(figsize=(8,4))\n",
    "dataset.ANOMALY.value_counts()"
   ]
  },
  {
   "cell_type": "code",
   "execution_count": 2,
   "id": "83079154",
   "metadata": {},
   "outputs": [
    {
     "data": {
      "text/html": [
       "<div>\n",
       "<style scoped>\n",
       "    .dataframe tbody tr th:only-of-type {\n",
       "        vertical-align: middle;\n",
       "    }\n",
       "\n",
       "    .dataframe tbody tr th {\n",
       "        vertical-align: top;\n",
       "    }\n",
       "\n",
       "    .dataframe thead th {\n",
       "        text-align: right;\n",
       "    }\n",
       "</style>\n",
       "<table border=\"1\" class=\"dataframe\">\n",
       "  <thead>\n",
       "    <tr style=\"text-align: right;\">\n",
       "      <th></th>\n",
       "      <th>REMOTE_PORT</th>\n",
       "      <th>LATENCY</th>\n",
       "      <th>THROUGHPUT</th>\n",
       "      <th>ANOMALY</th>\n",
       "    </tr>\n",
       "  </thead>\n",
       "  <tbody>\n",
       "    <tr>\n",
       "      <th>0</th>\n",
       "      <td>21</td>\n",
       "      <td>15.942875</td>\n",
       "      <td>16.202998</td>\n",
       "      <td>0</td>\n",
       "    </tr>\n",
       "    <tr>\n",
       "      <th>1</th>\n",
       "      <td>20</td>\n",
       "      <td>12.666451</td>\n",
       "      <td>15.899084</td>\n",
       "      <td>1</td>\n",
       "    </tr>\n",
       "    <tr>\n",
       "      <th>2</th>\n",
       "      <td>80</td>\n",
       "      <td>13.894550</td>\n",
       "      <td>12.958008</td>\n",
       "      <td>0</td>\n",
       "    </tr>\n",
       "    <tr>\n",
       "      <th>3</th>\n",
       "      <td>21</td>\n",
       "      <td>13.620813</td>\n",
       "      <td>15.459475</td>\n",
       "      <td>0</td>\n",
       "    </tr>\n",
       "    <tr>\n",
       "      <th>4</th>\n",
       "      <td>21</td>\n",
       "      <td>15.705485</td>\n",
       "      <td>15.339565</td>\n",
       "      <td>0</td>\n",
       "    </tr>\n",
       "  </tbody>\n",
       "</table>\n",
       "</div>"
      ],
      "text/plain": [
       "   REMOTE_PORT    LATENCY  THROUGHPUT  ANOMALY\n",
       "0           21  15.942875   16.202998        0\n",
       "1           20  12.666451   15.899084        1\n",
       "2           80  13.894550   12.958008        0\n",
       "3           21  13.620813   15.459475        0\n",
       "4           21  15.705485   15.339565        0"
      ]
     },
     "execution_count": 2,
     "metadata": {},
     "output_type": "execute_result"
    }
   ],
   "source": [
    "dataset.head(5)"
   ]
  },
  {
   "cell_type": "markdown",
   "id": "4dc8744e",
   "metadata": {},
   "source": [
    "### Gibt es Probleme bei der Anzahl der Datensamples?\n",
    "Wie können wir dieses Problem angehen? Müssen wir es angehen?"
   ]
  },
  {
   "cell_type": "markdown",
   "id": "c9bc6690",
   "metadata": {},
   "source": [
    "### Datenset aufsplitten"
   ]
  },
  {
   "cell_type": "code",
   "execution_count": 43,
   "id": "d60afdac",
   "metadata": {},
   "outputs": [],
   "source": [
    "samples = dataset.iloc[:, [1, 2]].values\n",
    "targets = dataset['ANOMALY'].values"
   ]
  },
  {
   "cell_type": "code",
   "execution_count": 44,
   "id": "5b00c5f8",
   "metadata": {},
   "outputs": [],
   "source": [
    "training_samples, testing_samples, training_targets, testing_targets = train_test_split(\n",
    "         samples, targets, test_size=0.3, random_state=0)"
   ]
  },
  {
   "cell_type": "code",
   "execution_count": null,
   "id": "14de05a1",
   "metadata": {},
   "outputs": [],
   "source": [
    "# Soll ich das beachten? Oder lassen wir das aus?\n",
    "dataset_majority = dataset[dataset['ANOMALY']==0]\n",
    "dataset_minority = dataset[dataset['ANOMALY']==1]\n",
    "\n",
    "# Upsample the minority class to have the same number of instances as the majority class\n",
    "dataset_minority_upsampled = dataset_minority.sample(len(dataset_majority), replace=True)\n",
    "\n",
    "# Combine the upsampled minority class with the majority class\n",
    "dataset_balanced = pd.concat([dataset_majority, dataset_minority_upsampled])\n",
    "\n",
    "# Shuffle the data to avoid introducing any bias\n",
    "dataset_balanced = dataset_balanced.sample(frac=1, random_state=42)"
   ]
  },
  {
   "cell_type": "markdown",
   "id": "1ba8f516",
   "metadata": {},
   "source": [
    "### Klassifizieren"
   ]
  },
  {
   "cell_type": "code",
   "execution_count": 51,
   "id": "f862dc27",
   "metadata": {
    "scrolled": false
   },
   "outputs": [
    {
     "name": "stdout",
     "output_type": "stream",
     "text": [
      "K-Nearest Neighbours accuracy: 95.90163934426229\n"
     ]
    }
   ],
   "source": [
    "# k-Nearest Neighbors model\n",
    "knc = KNeighborsClassifier(n_neighbors=2)\n",
    "knc.fit(training_samples,training_targets)\n",
    "knc_prediction = knc.predict(testing_samples)\n",
    "knc_accuracy = 100.0 * accuracy_score(testing_targets, knc_prediction)\n",
    "print (\"K-Nearest Neighbours accuracy: \" + str(knc_accuracy))\n"
   ]
  },
  {
   "cell_type": "code",
   "execution_count": 59,
   "id": "8bdc99e8",
   "metadata": {
    "scrolled": true
   },
   "outputs": [
    {
     "data": {
      "image/png": "[encoded data removed]",
      "text/plain": [
       "<Figure size 640x480 with 1 Axes>"
      ]
     },
     "metadata": {},
     "output_type": "display_data"
    }
   ],
   "source": [
    "precision, recall, thresholds = precision_recall_curve(testing_targets, knc_prediction)\n",
    "plt.plot(recall, precision)\n",
    "plt.xlabel('Recall')\n",
    "plt.ylabel('Precision')\n",
    "plt.title('Precision-Recall Curve')\n",
    "plt.show()"
   ]
  },
  {
   "cell_type": "code",
   "execution_count": 55,
   "id": "47fff185",
   "metadata": {
    "scrolled": true
   },
   "outputs": [
    {
     "name": "stdout",
     "output_type": "stream",
     "text": [
      "Gaussian Naive Bayes accuracy: 98.36065573770492\n"
     ]
    }
   ],
   "source": [
    "# Gaussian Naive Bayes model\n",
    "gnb = GaussianNB()\n",
    "gnb.fit(training_samples,training_targets)\n",
    "gnb_prediction = gnb.predict(testing_samples)\n",
    "gnb_accuracy = 100.0 * accuracy_score(testing_targets, gnb_prediction)\n",
    "print (\"Gaussian Naive Bayes accuracy: \" + str(gnb_accuracy))"
   ]
  },
  {
   "cell_type": "code",
   "execution_count": 50,
   "id": "076ca0ea",
   "metadata": {},
   "outputs": [
    {
     "data": {
      "image/png": "[encoded data removed]",
      "text/plain": [
       "<Figure size 640x480 with 1 Axes>"
      ]
     },
     "metadata": {},
     "output_type": "display_data"
    }
   ],
   "source": [
    "precision, recall, thresholds = precision_recall_curve(testing_targets, gnb_prediction)\n",
    "plt.plot(recall, precision)\n",
    "plt.xlabel('Recall')\n",
    "plt.ylabel('Precision')\n",
    "plt.title('Precision-Recall Curve')\n",
    "plt.show()"
   ]
  },
  {
   "cell_type": "markdown",
   "id": "88969a3b",
   "metadata": {},
   "source": [
    "### Klassifiziere die Daten mit einem DecisionTreeClassifier\n",
    "https://scikit-learn.org/stable/modules/tree.html"
   ]
  },
  {
   "cell_type": "code",
   "execution_count": null,
   "id": "df4feff3",
   "metadata": {},
   "outputs": [],
   "source": [
    "# Decision tree model\n",
    "dtc = DecisionTreeClassifier(random_state=0)\n",
    "dtc.fit(training_samples,training_targets)\n",
    "dtc_prediction = dtc.predict(testing_samples)\n",
    "dtc_accuracy = 100.0 * accuracy_score(testing_targets, dtc_prediction)\n",
    "print (\"Decision Tree accuracy: \" + str(dtc_accuracy))"
   ]
  },
  {
   "cell_type": "code",
   "execution_count": null,
   "id": "f2fdb1b4",
   "metadata": {},
   "outputs": [],
   "source": [
    "precision, recall, thresholds = precision_recall_curve(testing_targets, dtc_prediction)\n",
    "plt.plot(recall, precision)\n",
    "plt.xlabel('Recall')\n",
    "plt.ylabel('Precision')\n",
    "plt.title('Precision-Recall Curve')\n",
    "plt.show()"
   ]
  },
  {
   "cell_type": "code",
   "execution_count": 1,
   "id": "34304eec",
   "metadata": {},
   "outputs": [],
   "source": [
    "## TODO: Add neural network solution"
   ]
  },
  {
   "cell_type": "code",
   "execution_count": null,
   "id": "4ccfc2ff",
   "metadata": {},
   "outputs": [],
   "source": []
  }
 ],
 "metadata": {
  "kernelspec": {
   "display_name": "Python 3 (ipykernel)",
   "language": "python",
   "name": "python3"
  },
  "language_info": {
   "codemirror_mode": {
    "name": "ipython",
    "version": 3
   },
   "file_extension": ".py",
   "mimetype": "text/x-python",
   "name": "python",
   "nbconvert_exporter": "python",
   "pygments_lexer": "ipython3",
   "version": "3.9.16"
  }
 },
 "nbformat": 4,
 "nbformat_minor": 5
}
